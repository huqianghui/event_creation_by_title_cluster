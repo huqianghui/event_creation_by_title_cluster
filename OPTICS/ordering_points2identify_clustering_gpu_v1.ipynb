{
 "cells": [
  {
   "cell_type": "code",
   "execution_count": null,
   "metadata": {},
   "outputs": [],
   "source": [
    "from sklearn.cluster import OPTICS\n",
    "import numpy as np\n",
    "import pandas as pd\n",
    "import matplotlib.pyplot as plt\n",
    "\n",
    "def convet_to_float_array(input: str) -> np.array:\n",
    "    values_str = input.strip('[]')\n",
    "    values_list = values_str.split(',')\n",
    "    # 将字符串列表转换为浮点数数组\n",
    "    float_array = np.array([float(value) for value in values_list])\n",
    "    return float_array\n",
    "\n",
    "# 读取title embedding\n",
    "title_embedding = np.array(pd.read_csv(\"../data/azure_title_test_2_embedding.csv\", encoding='utf-8')[\"title_embedding\"].apply(lambda x: convet_to_float_array(x)).tolist())\n",
    "\n",
    "from sklearn.metrics.pairwise import pairwise_distances\n",
    "# 计算相似度矩阵\n",
    "similarity_matrix = 1 - pairwise_distances(title_embedding, metric='cosine')\n",
    "\n",
    "\n",
    "from sklearn.cluster import OPTICS\n",
    "\n",
    "# 创建OPTICS对象并拟合相似度矩阵\n",
    "optics = OPTICS(min_samples=15, xi=0.005, min_cluster_size=15)\n",
    "clusters = optics.fit_predict(similarity_matrix)"
   ]
  }
 ],
 "metadata": {
  "kernelspec": {
   "display_name": ".venv",
   "language": "python",
   "name": "python3"
  },
  "language_info": {
   "name": "python",
   "version": "3.10.12"
  },
  "orig_nbformat": 4
 },
 "nbformat": 4,
 "nbformat_minor": 2
}
